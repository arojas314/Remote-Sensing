{
 "cells": [
  {
   "cell_type": "markdown",
   "metadata": {},
   "source": [
    "# Classification Methods on Landsat Imagery\n",
    "_Using sklearn to implement classification methods on a per pixel basis_"
   ]
  },
  {
   "cell_type": "markdown",
   "metadata": {},
   "source": [
    "### Classification Methods:\n",
    "1. Support Vector Classifier\n",
    "2. K-Nearest Neighbor Classifier\n",
    "3. Decision Tree Classifier"
   ]
  },
  {
   "cell_type": "code",
   "execution_count": 1,
   "metadata": {},
   "outputs": [],
   "source": [
    "# Import the necessary libaries\n",
    "import matplotlib.pyplot as plt\n",
    "import pandas as pd\n",
    "import numpy as np\n",
    "from sklearn.metrics import classification_report, confusion_matrix, accuracy_score\n",
    "from sklearn.svm import SVC\n",
    "from sklearn.neighbors import KNeighborsClassifier\n",
    "from sklearn import datasets"
   ]
  },
  {
   "cell_type": "markdown",
   "metadata": {},
   "source": [
    "## Preprocessing the data\n",
    "- Read the test and train data into a dataframe\n",
    "- Split the data into features (independent variables) and label (dependent-variable)"
   ]
  },
  {
   "cell_type": "code",
   "execution_count": 2,
   "metadata": {},
   "outputs": [
    {
     "data": {
      "text/html": [
       "<div>\n",
       "<style scoped>\n",
       "    .dataframe tbody tr th:only-of-type {\n",
       "        vertical-align: middle;\n",
       "    }\n",
       "\n",
       "    .dataframe tbody tr th {\n",
       "        vertical-align: top;\n",
       "    }\n",
       "\n",
       "    .dataframe thead th {\n",
       "        text-align: right;\n",
       "    }\n",
       "</style>\n",
       "<table border=\"1\" class=\"dataframe\">\n",
       "  <thead>\n",
       "    <tr style=\"text-align: right;\">\n",
       "      <th></th>\n",
       "      <th>B1</th>\n",
       "      <th>B2</th>\n",
       "      <th>B3</th>\n",
       "      <th>B4</th>\n",
       "      <th>B5</th>\n",
       "      <th>B6</th>\n",
       "      <th>B7</th>\n",
       "      <th>landcover</th>\n",
       "    </tr>\n",
       "  </thead>\n",
       "  <tbody>\n",
       "    <tr>\n",
       "      <th>0</th>\n",
       "      <td>763</td>\n",
       "      <td>830</td>\n",
       "      <td>949</td>\n",
       "      <td>960</td>\n",
       "      <td>1141</td>\n",
       "      <td>1271</td>\n",
       "      <td>1156</td>\n",
       "      <td>0</td>\n",
       "    </tr>\n",
       "    <tr>\n",
       "      <th>1</th>\n",
       "      <td>1803</td>\n",
       "      <td>2175</td>\n",
       "      <td>2678</td>\n",
       "      <td>2874</td>\n",
       "      <td>2983</td>\n",
       "      <td>4869</td>\n",
       "      <td>5132</td>\n",
       "      <td>0</td>\n",
       "    </tr>\n",
       "    <tr>\n",
       "      <th>2</th>\n",
       "      <td>267</td>\n",
       "      <td>325</td>\n",
       "      <td>454</td>\n",
       "      <td>431</td>\n",
       "      <td>1315</td>\n",
       "      <td>949</td>\n",
       "      <td>775</td>\n",
       "      <td>0</td>\n",
       "    </tr>\n",
       "    <tr>\n",
       "      <th>3</th>\n",
       "      <td>316</td>\n",
       "      <td>429</td>\n",
       "      <td>490</td>\n",
       "      <td>527</td>\n",
       "      <td>735</td>\n",
       "      <td>717</td>\n",
       "      <td>681</td>\n",
       "      <td>0</td>\n",
       "    </tr>\n",
       "    <tr>\n",
       "      <th>4</th>\n",
       "      <td>614</td>\n",
       "      <td>679</td>\n",
       "      <td>858</td>\n",
       "      <td>899</td>\n",
       "      <td>1694</td>\n",
       "      <td>1338</td>\n",
       "      <td>1093</td>\n",
       "      <td>0</td>\n",
       "    </tr>\n",
       "    <tr>\n",
       "      <th>...</th>\n",
       "      <td>...</td>\n",
       "      <td>...</td>\n",
       "      <td>...</td>\n",
       "      <td>...</td>\n",
       "      <td>...</td>\n",
       "      <td>...</td>\n",
       "      <td>...</td>\n",
       "      <td>...</td>\n",
       "    </tr>\n",
       "    <tr>\n",
       "      <th>95</th>\n",
       "      <td>304</td>\n",
       "      <td>359</td>\n",
       "      <td>695</td>\n",
       "      <td>550</td>\n",
       "      <td>3400</td>\n",
       "      <td>2447</td>\n",
       "      <td>1233</td>\n",
       "      <td>3</td>\n",
       "    </tr>\n",
       "    <tr>\n",
       "      <th>96</th>\n",
       "      <td>358</td>\n",
       "      <td>361</td>\n",
       "      <td>772</td>\n",
       "      <td>361</td>\n",
       "      <td>5525</td>\n",
       "      <td>2231</td>\n",
       "      <td>969</td>\n",
       "      <td>3</td>\n",
       "    </tr>\n",
       "    <tr>\n",
       "      <th>97</th>\n",
       "      <td>300</td>\n",
       "      <td>323</td>\n",
       "      <td>675</td>\n",
       "      <td>349</td>\n",
       "      <td>4280</td>\n",
       "      <td>1952</td>\n",
       "      <td>848</td>\n",
       "      <td>3</td>\n",
       "    </tr>\n",
       "    <tr>\n",
       "      <th>98</th>\n",
       "      <td>352</td>\n",
       "      <td>406</td>\n",
       "      <td>597</td>\n",
       "      <td>671</td>\n",
       "      <td>2244</td>\n",
       "      <td>2893</td>\n",
       "      <td>1894</td>\n",
       "      <td>3</td>\n",
       "    </tr>\n",
       "    <tr>\n",
       "      <th>99</th>\n",
       "      <td>330</td>\n",
       "      <td>355</td>\n",
       "      <td>699</td>\n",
       "      <td>402</td>\n",
       "      <td>4433</td>\n",
       "      <td>2231</td>\n",
       "      <td>998</td>\n",
       "      <td>3</td>\n",
       "    </tr>\n",
       "  </tbody>\n",
       "</table>\n",
       "<p>100 rows × 8 columns</p>\n",
       "</div>"
      ],
      "text/plain": [
       "      B1    B2    B3    B4    B5    B6    B7  landcover\n",
       "0    763   830   949   960  1141  1271  1156          0\n",
       "1   1803  2175  2678  2874  2983  4869  5132          0\n",
       "2    267   325   454   431  1315   949   775          0\n",
       "3    316   429   490   527   735   717   681          0\n",
       "4    614   679   858   899  1694  1338  1093          0\n",
       "..   ...   ...   ...   ...   ...   ...   ...        ...\n",
       "95   304   359   695   550  3400  2447  1233          3\n",
       "96   358   361   772   361  5525  2231   969          3\n",
       "97   300   323   675   349  4280  1952   848          3\n",
       "98   352   406   597   671  2244  2893  1894          3\n",
       "99   330   355   699   402  4433  2231   998          3\n",
       "\n",
       "[100 rows x 8 columns]"
      ]
     },
     "execution_count": 2,
     "metadata": {},
     "output_type": "execute_result"
    }
   ],
   "source": [
    "# perform both classifiers on the band values from the raster image\n",
    "# read in both training and testing data\n",
    "bandsTrain_df = pd.read_csv('./data/training_classification.csv')\n",
    "bandsTest_df = pd.read_csv('./data/testing_classification_clean.csv')\n",
    "bandsTrain_df"
   ]
  },
  {
   "cell_type": "code",
   "execution_count": 3,
   "metadata": {},
   "outputs": [
    {
     "data": {
      "text/html": [
       "<div>\n",
       "<style scoped>\n",
       "    .dataframe tbody tr th:only-of-type {\n",
       "        vertical-align: middle;\n",
       "    }\n",
       "\n",
       "    .dataframe tbody tr th {\n",
       "        vertical-align: top;\n",
       "    }\n",
       "\n",
       "    .dataframe thead th {\n",
       "        text-align: right;\n",
       "    }\n",
       "</style>\n",
       "<table border=\"1\" class=\"dataframe\">\n",
       "  <thead>\n",
       "    <tr style=\"text-align: right;\">\n",
       "      <th></th>\n",
       "      <th>B1</th>\n",
       "      <th>B2</th>\n",
       "      <th>B3</th>\n",
       "      <th>B4</th>\n",
       "      <th>B5</th>\n",
       "      <th>B6</th>\n",
       "      <th>B7</th>\n",
       "      <th>landcover</th>\n",
       "    </tr>\n",
       "  </thead>\n",
       "  <tbody>\n",
       "    <tr>\n",
       "      <th>count</th>\n",
       "      <td>100.000000</td>\n",
       "      <td>100.000000</td>\n",
       "      <td>100.000000</td>\n",
       "      <td>100.000000</td>\n",
       "      <td>100.000000</td>\n",
       "      <td>100.000000</td>\n",
       "      <td>100.000000</td>\n",
       "      <td>100.000000</td>\n",
       "    </tr>\n",
       "    <tr>\n",
       "      <th>mean</th>\n",
       "      <td>366.150000</td>\n",
       "      <td>409.330000</td>\n",
       "      <td>611.610000</td>\n",
       "      <td>515.710000</td>\n",
       "      <td>2569.090000</td>\n",
       "      <td>1490.340000</td>\n",
       "      <td>853.270000</td>\n",
       "      <td>1.500000</td>\n",
       "    </tr>\n",
       "    <tr>\n",
       "      <th>std</th>\n",
       "      <td>287.441004</td>\n",
       "      <td>350.258809</td>\n",
       "      <td>437.698409</td>\n",
       "      <td>531.573789</td>\n",
       "      <td>1761.389902</td>\n",
       "      <td>1000.908711</td>\n",
       "      <td>741.807931</td>\n",
       "      <td>1.123666</td>\n",
       "    </tr>\n",
       "    <tr>\n",
       "      <th>min</th>\n",
       "      <td>89.000000</td>\n",
       "      <td>120.000000</td>\n",
       "      <td>145.000000</td>\n",
       "      <td>86.000000</td>\n",
       "      <td>122.000000</td>\n",
       "      <td>24.000000</td>\n",
       "      <td>9.000000</td>\n",
       "      <td>0.000000</td>\n",
       "    </tr>\n",
       "    <tr>\n",
       "      <th>25%</th>\n",
       "      <td>209.750000</td>\n",
       "      <td>208.500000</td>\n",
       "      <td>316.000000</td>\n",
       "      <td>195.500000</td>\n",
       "      <td>614.000000</td>\n",
       "      <td>535.500000</td>\n",
       "      <td>411.750000</td>\n",
       "      <td>0.750000</td>\n",
       "    </tr>\n",
       "    <tr>\n",
       "      <th>50%</th>\n",
       "      <td>260.000000</td>\n",
       "      <td>272.000000</td>\n",
       "      <td>444.500000</td>\n",
       "      <td>266.500000</td>\n",
       "      <td>3056.000000</td>\n",
       "      <td>1723.000000</td>\n",
       "      <td>811.000000</td>\n",
       "      <td>1.500000</td>\n",
       "    </tr>\n",
       "    <tr>\n",
       "      <th>75%</th>\n",
       "      <td>370.250000</td>\n",
       "      <td>423.000000</td>\n",
       "      <td>737.250000</td>\n",
       "      <td>626.000000</td>\n",
       "      <td>4125.500000</td>\n",
       "      <td>2167.250000</td>\n",
       "      <td>1142.500000</td>\n",
       "      <td>2.250000</td>\n",
       "    </tr>\n",
       "    <tr>\n",
       "      <th>max</th>\n",
       "      <td>1803.000000</td>\n",
       "      <td>2175.000000</td>\n",
       "      <td>2678.000000</td>\n",
       "      <td>2916.000000</td>\n",
       "      <td>5525.000000</td>\n",
       "      <td>4869.000000</td>\n",
       "      <td>5132.000000</td>\n",
       "      <td>3.000000</td>\n",
       "    </tr>\n",
       "  </tbody>\n",
       "</table>\n",
       "</div>"
      ],
      "text/plain": [
       "                B1           B2           B3           B4           B5  \\\n",
       "count   100.000000   100.000000   100.000000   100.000000   100.000000   \n",
       "mean    366.150000   409.330000   611.610000   515.710000  2569.090000   \n",
       "std     287.441004   350.258809   437.698409   531.573789  1761.389902   \n",
       "min      89.000000   120.000000   145.000000    86.000000   122.000000   \n",
       "25%     209.750000   208.500000   316.000000   195.500000   614.000000   \n",
       "50%     260.000000   272.000000   444.500000   266.500000  3056.000000   \n",
       "75%     370.250000   423.000000   737.250000   626.000000  4125.500000   \n",
       "max    1803.000000  2175.000000  2678.000000  2916.000000  5525.000000   \n",
       "\n",
       "                B6           B7   landcover  \n",
       "count   100.000000   100.000000  100.000000  \n",
       "mean   1490.340000   853.270000    1.500000  \n",
       "std    1000.908711   741.807931    1.123666  \n",
       "min      24.000000     9.000000    0.000000  \n",
       "25%     535.500000   411.750000    0.750000  \n",
       "50%    1723.000000   811.000000    1.500000  \n",
       "75%    2167.250000  1142.500000    2.250000  \n",
       "max    4869.000000  5132.000000    3.000000  "
      ]
     },
     "execution_count": 3,
     "metadata": {},
     "output_type": "execute_result"
    }
   ],
   "source": [
    "# view summary statistics of each band (column)\n",
    "bandsTrain_df.describe()"
   ]
  },
  {
   "cell_type": "code",
   "execution_count": 4,
   "metadata": {},
   "outputs": [],
   "source": [
    "# Prepare the data into seperate variables\n",
    "train_data = bandsTrain_df.to_numpy() # convert entire dataframe to a matrix\n",
    "X1_train = train_data[:, :-1] # all columns but the last\n",
    "y1_train = train_data[:, -1].astype(int) # expected to be from 0 to n_classes - 1 (in this case, 0, 1, 2 classes for different flowers)\n",
    "\n",
    "test_data = bandsTest_df.to_numpy()\n",
    "X1_test = test_data[:, :-1] # all columns but the last\n",
    "y1_test = test_data[:, -1].astype(int) # expected to be from 0 to n_classes - 1 (in this case, 0, 1, 2 classes for different flowers)\n"
   ]
  },
  {
   "cell_type": "markdown",
   "metadata": {},
   "source": [
    "## Training and Testing the Classification Models\n",
    "- Fit the models to the training data (this is called training or fitting the model)\n",
    "- Make predictions on the testing data\n",
    "- View classification results (accuracy metrics)"
   ]
  },
  {
   "cell_type": "markdown",
   "metadata": {},
   "source": [
    "### Support Vector Classification (SVC) and K Nearest Neighbors (KNN) Classification"
   ]
  },
  {
   "cell_type": "code",
   "execution_count": 5,
   "metadata": {},
   "outputs": [],
   "source": [
    "# Initialize the models\n",
    "svcBandModel = SVC()\n",
    "# Remember, KNN model requires you to specify n_neighbors,\n",
    "# the number of points the classifier will look at to determine what class a new point belongs to\n",
    "KNNBandsModel = KNeighborsClassifier(n_neighbors=4)"
   ]
  },
  {
   "cell_type": "code",
   "execution_count": 6,
   "metadata": {},
   "outputs": [
    {
     "data": {
      "text/plain": [
       "KNeighborsClassifier(n_neighbors=4)"
      ]
     },
     "execution_count": 6,
     "metadata": {},
     "output_type": "execute_result"
    }
   ],
   "source": [
    "# Fit the models\n",
    "svcBandModel.fit(X1_train, y1_train)\n",
    "KNNBandsModel.fit(X1_train, y1_train)"
   ]
  },
  {
   "cell_type": "code",
   "execution_count": 7,
   "metadata": {},
   "outputs": [],
   "source": [
    "# Make predictions on the test data\n",
    "svcBandPred = svcBandModel.predict(X1_test)\n",
    "KNNBandPred = KNNBandsModel.predict(X1_test)"
   ]
  },
  {
   "cell_type": "code",
   "execution_count": 8,
   "metadata": {},
   "outputs": [
    {
     "name": "stdout",
     "output_type": "stream",
     "text": [
      "0.9333333333333333\n",
      "0.9833333333333333\n",
      "[[14  0  0  0]\n",
      " [ 0 15  0  0]\n",
      " [ 1  0 13  1]\n",
      " [ 0  0  2 14]]\n",
      "              precision    recall  f1-score   support\n",
      "\n",
      "           0       1.00      1.00      1.00        15\n",
      "           1       1.00      1.00      1.00        15\n",
      "           2       1.00      0.94      0.97        16\n",
      "           3       0.93      1.00      0.97        14\n",
      "\n",
      "    accuracy                           0.98        60\n",
      "   macro avg       0.98      0.98      0.98        60\n",
      "weighted avg       0.98      0.98      0.98        60\n",
      "\n"
     ]
    }
   ],
   "source": [
    "# Accuracy score is the simplest way to evaluate\n",
    "print(accuracy_score(svcBandPred, y1_test))\n",
    "print(accuracy_score(KNNBandPred, y1_test))\n",
    "# But Confusion Matrix and Classification Report give more details about performance\n",
    "print(confusion_matrix(svcBandPred, y1_test))\n",
    "print(classification_report(KNNBandPred, y1_test))"
   ]
  },
  {
   "cell_type": "markdown",
   "metadata": {},
   "source": [
    "## Predicting class of every pixel in the image\n",
    "Use the classification models to classify the entire image"
   ]
  },
  {
   "cell_type": "code",
   "execution_count": 9,
   "metadata": {},
   "outputs": [],
   "source": [
    "# First, get the file path and file name for red, green, and blue bands\n",
    "# use the glob module to get landsat bands 1-7\n",
    "# import glob\n",
    "import rasterio\n",
    "\n",
    "# for fn in glob.glob('./data/saratoga_08052019_image/*B[1-7].TIF'): \n",
    "#     print(fn[-6:-4])\n",
    "\n",
    "bands_fn = './data/landsatToDrive.tif'\n",
    "bands_src = rasterio.open(bands_fn, driver=\"GTiff\")\n",
    "\n",
    "\n",
    "# Use rasterio.open to open each image and read\n",
    "band1 = bands_src.read(1)\n",
    "band2 = bands_src.read(2)\n",
    "band3 = bands_src.read(3)\n",
    "band4 = bands_src.read(4)\n",
    "band5 = bands_src.read(5)\n",
    "band6 = bands_src.read(6)\n",
    "band7 = bands_src.read(7)"
   ]
  },
  {
   "cell_type": "code",
   "execution_count": 10,
   "metadata": {},
   "outputs": [
    {
     "data": {
      "text/plain": [
       "(100, 7)"
      ]
     },
     "execution_count": 10,
     "metadata": {},
     "output_type": "execute_result"
    }
   ],
   "source": [
    "# Remember the shape of the input vector for prediction\n",
    "X1_train.shape"
   ]
  },
  {
   "cell_type": "code",
   "execution_count": 11,
   "metadata": {},
   "outputs": [
    {
     "data": {
      "text/plain": [
       "(7835, 7589, 7)"
      ]
     },
     "execution_count": 11,
     "metadata": {},
     "output_type": "execute_result"
    }
   ],
   "source": [
    "# Stack all arrays into one numpy array to use for analysis\n",
    "band_stack = np.dstack((band1, band2, band3, band4, band5, band6, band7))\n",
    "band_stack.shape"
   ]
  },
  {
   "cell_type": "code",
   "execution_count": null,
   "metadata": {},
   "outputs": [],
   "source": [
    "## Support Vector Classifier prediction of Landsat8 Image\n",
    "\n",
    "# initialize an array to add labeled pixels\n",
    "svc_result = np.zeros(band_stack[:, :, 0].shape)\n",
    "for j in range(band_stack.shape[0]): # for each row\n",
    "    print(j)\n",
    "    for k in range(band_stack.shape[1]): # for each col\n",
    "        # for all band values (each raster value) in a pixel\n",
    "        b_array = band_stack[j,k,:]\n",
    "#         print(b_array.shape)\n",
    "        if (np.any(b_array)):\n",
    "            # If all b_array values are 0, then:\n",
    "            # add band values to list to pass to classifier prediction\n",
    "\n",
    "            b_array = b_array.reshape(1, -1)\n",
    "#             print(b_array)\n",
    "            pred = svcBandModel.predict(b_array)\n",
    "#             print(pred)\n",
    "\n",
    "#             # add predicted label value to cell\n",
    "            svc_result[j,k] = pred\n",
    "        else:\n",
    "            svc_result[j,k] = np.nan"
   ]
  },
  {
   "cell_type": "code",
   "execution_count": 32,
   "metadata": {},
   "outputs": [
    {
     "data": {
      "text/plain": [
       "<matplotlib.image.AxesImage at 0x1a1ec7a850>"
      ]
     },
     "execution_count": 32,
     "metadata": {},
     "output_type": "execute_result"
    },
    {
     "data": {
      "image/png": "[encoded data removed]",
      "text/plain": [
       "<Figure size 432x288 with 1 Axes>"
      ]
     },
     "metadata": {
      "needs_background": "light"
     },
     "output_type": "display_data"
    }
   ],
   "source": [
    "plt.imshow(svc_result)"
   ]
  },
  {
   "cell_type": "code",
   "execution_count": null,
   "metadata": {},
   "outputs": [],
   "source": []
  },
  {
   "cell_type": "code",
   "execution_count": 30,
   "metadata": {},
   "outputs": [
    {
     "name": "stdout",
     "output_type": "stream",
     "text": [
      "[[ 478  439  606  407 4866 2487 1079]]\n",
      "[3]\n"
     ]
    }
   ],
   "source": [
    "##  Quick sanity check for SVC prediction\n",
    "a = np.array([478, 439, 606, 407, 4866, 2487, 1079]).reshape(1,-1) # band values for some pixel\n",
    "print(a)\n",
    "print(svcBandModel.predict(a))"
   ]
  },
  {
   "cell_type": "code",
   "execution_count": 31,
   "metadata": {},
   "outputs": [
    {
     "name": "stdout",
     "output_type": "stream",
     "text": [
      "2516.870082542302\n"
     ]
    }
   ],
   "source": [
    "print(band5.mean())"
   ]
  },
  {
   "cell_type": "code",
   "execution_count": null,
   "metadata": {},
   "outputs": [],
   "source": []
  },
  {
   "cell_type": "code",
   "execution_count": 43,
   "metadata": {},
   "outputs": [],
   "source": [
    "# Saving SVC classification raster\n",
    "\n",
    "# Open a new raster file, and initialize with the same parameters from the L8 scene\n",
    "# (use any band from the scene to get the parameters)\n",
    "# the following are the major parameters used to write a new raster file\n",
    "svc_raster = rasterio.open('./data/L8_wrs1430_classSVC.tif', 'w', driver='GTiff',\n",
    "                         width=bands_src.width, height = bands_src.height,\n",
    "                         count= 1,\n",
    "                         crs=bands_src.crs,\n",
    "                         transform=bands_src.transform,\n",
    "                         dtype='float64')\n",
    "\n",
    "# Write each band to the raster file\n",
    "svc_raster.write(svc_result, 1) # write the classification numpy to band\n",
    "\n",
    "# Close the raster file\n",
    "svc_raster.close()"
   ]
  },
  {
   "cell_type": "code",
   "execution_count": null,
   "metadata": {},
   "outputs": [],
   "source": []
  },
  {
   "cell_type": "code",
   "execution_count": null,
   "metadata": {},
   "outputs": [],
   "source": [
    "## KNN Classifier of Landsat8 Image\n",
    "\n",
    "# initialize an array to add labeled pixels\n",
    "knn_result = np.zeros(band_stack[:, :, 0].shape)\n",
    "for j in range(band_stack.shape[0]): # for each row\n",
    "    print(j)\n",
    "    for k in range(band_stack.shape[1]): # for each col\n",
    "        # for all band values (each raster value) in a pixel\n",
    "        b_array = band_stack[j,k,:]\n",
    "#         print(b_array.shape)\n",
    "        if (np.any(b_array)):\n",
    "            # If all b_array values are 0, then:\n",
    "            # add band values to list to pass to classifier prediction\n",
    "\n",
    "            b_array = b_array.reshape(1, -1)\n",
    "#             print(b_array)\n",
    "            pred = KNNBandsModel.predict(b_array)\n",
    "#             print(pred)\n",
    "\n",
    "#             # add predicted label value to cell\n",
    "            knn_result[j,k] = pred\n",
    "        else:\n",
    "            knn_result[j,k] = np.nan"
   ]
  },
  {
   "cell_type": "code",
   "execution_count": null,
   "metadata": {},
   "outputs": [],
   "source": []
  },
  {
   "cell_type": "code",
   "execution_count": null,
   "metadata": {},
   "outputs": [],
   "source": [
    "# Saving KNN classification raster\n",
    "\n",
    "# Open a new raster file, and initialize with the same parameters from the L8 scene\n",
    "# (use any band from the scene to get the parameters)\n",
    "# the following are the major parameters used to write a new raster file\n",
    "svc_raster = rasterio.open('./data/L8_wrs1430_classKNN.tif', 'w', driver='GTiff',\n",
    "                         width=bands_src.width, height = bands_src.height,\n",
    "                         count= 1,\n",
    "                         crs=bands_src.crs,\n",
    "                         transform=bands_src.transform,\n",
    "                         dtype='float64')\n",
    "\n",
    "# Write each band to the raster file\n",
    "svc_raster.write(knn_result, 1) # write the classification numpy to band\n",
    "\n",
    "# Close the raster file\n",
    "svc_raster.close()"
   ]
  },
  {
   "cell_type": "code",
   "execution_count": null,
   "metadata": {},
   "outputs": [],
   "source": []
  },
  {
   "cell_type": "markdown",
   "metadata": {},
   "source": [
    "### Decision Tree Classification"
   ]
  },
  {
   "cell_type": "code",
   "execution_count": 12,
   "metadata": {},
   "outputs": [
    {
     "data": {
      "text/plain": [
       "DecisionTreeClassifier()"
      ]
     },
     "execution_count": 12,
     "metadata": {},
     "output_type": "execute_result"
    }
   ],
   "source": [
    "from sklearn.tree import DecisionTreeClassifier\n",
    "dtClassifier = DecisionTreeClassifier()\n",
    "dtClassifier.fit(X1_train, y1_train)"
   ]
  },
  {
   "cell_type": "code",
   "execution_count": 13,
   "metadata": {},
   "outputs": [
    {
     "data": {
      "text/plain": [
       "array([3])"
      ]
     },
     "execution_count": 13,
     "metadata": {},
     "output_type": "execute_result"
    }
   ],
   "source": [
    "# Quick sanity check for Decision Tree Classifier prediction\n",
    "dtClassifier.predict(np.array([478, 439, 606, 407, 4866, 2487, 1079]).reshape(1,-1))"
   ]
  },
  {
   "cell_type": "code",
   "execution_count": 16,
   "metadata": {},
   "outputs": [],
   "source": [
    "# Make predictions on the test data\n",
    "dtBandPred = dtClassifier.predict(X1_test)"
   ]
  },
  {
   "cell_type": "code",
   "execution_count": 20,
   "metadata": {},
   "outputs": [
    {
     "name": "stdout",
     "output_type": "stream",
     "text": [
      "0.9333333333333333\n",
      "              precision    recall  f1-score   support\n",
      "\n",
      "           0       0.93      1.00      0.97        14\n",
      "           1       1.00      0.94      0.97        16\n",
      "           2       1.00      0.83      0.91        18\n",
      "           3       0.80      1.00      0.89        12\n",
      "\n",
      "    accuracy                           0.93        60\n",
      "   macro avg       0.93      0.94      0.93        60\n",
      "weighted avg       0.94      0.93      0.93        60\n",
      "\n"
     ]
    }
   ],
   "source": [
    "# Accuracy score is the simplest way to evaluate\n",
    "# print(accuracy_score(svcBandPred, y1_test))\n",
    "# print(accuracy_score(KNNBandPred, y1_test))\n",
    "print(accuracy_score(dtBandPred, y1_test))\n",
    "# But Confusion Matrix and Classification Report give more details about performance\n",
    "# print(confusion_matrix(svcBandPred, y1_test))\n",
    "# print(classification_report(KNNBandPred, y1_test))\n",
    "print(classification_report(dtBandPred, y1_test))\n",
    "# print(confusion_matrix(dtBandPred, y1_test)"
   ]
  },
  {
   "cell_type": "code",
   "execution_count": null,
   "metadata": {},
   "outputs": [],
   "source": [
    "## Decision Tree Classifier of Landsat8 Image\n",
    "\n",
    "# initialize an array to add labeled pixels\n",
    "dt_result = np.zeros(band_stack[:, :, 0].shape)\n",
    "for j in range(band_stack.shape[0]): # for each row\n",
    "    print(j)\n",
    "    for k in range(band_stack.shape[1]): # for each col\n",
    "        # for all band values (each raster value) in a pixel\n",
    "        b_array = band_stack[j,k,:]\n",
    "#         print(b_array.shape)\n",
    "        if (np.any(b_array)):\n",
    "            # If all b_array values are 0, then:\n",
    "            # add band values to list to pass to classifier prediction\n",
    "\n",
    "            b_array = b_array.reshape(1, -1)\n",
    "#             print(b_array)\n",
    "            pred = dtClassifier.predict(b_array)\n",
    "#             print(pred)\n",
    "\n",
    "#             # add predicted label value to cell\n",
    "            dt_result[j,k] = pred\n",
    "        else:\n",
    "            dt_result[j,k] = np.nan"
   ]
  },
  {
   "cell_type": "code",
   "execution_count": 22,
   "metadata": {},
   "outputs": [],
   "source": [
    "# Saving Decision Tree classification raster\n",
    "\n",
    "# Open a new raster file, and initialize with the same parameters from the L8 scene\n",
    "# (use any band from the scene to get the parameters)\n",
    "# the following are the major parameters used to write a new raster file\n",
    "svc_raster = rasterio.open('./data/L8_wrs1430_dtClass.tif', 'w', driver='GTiff',\n",
    "                         width=bands_src.width, height = bands_src.height,\n",
    "                         count= 1,\n",
    "                         crs=bands_src.crs,\n",
    "                         transform=bands_src.transform,\n",
    "                         dtype='float64')\n",
    "\n",
    "# Write each band to the raster file\n",
    "svc_raster.write(dt_result, 1) # write the classification numpy to band\n",
    "\n",
    "# Close the raster file\n",
    "svc_raster.close()"
   ]
  },
  {
   "cell_type": "code",
   "execution_count": null,
   "metadata": {},
   "outputs": [],
   "source": []
  }
 ],
 "metadata": {
  "kernelspec": {
   "display_name": "osgeo-env-v1",
   "language": "python",
   "name": "osgeo-env-v1"
  },
  "language_info": {
   "codemirror_mode": {
    "name": "ipython",
    "version": 3
   },
   "file_extension": ".py",
   "mimetype": "text/x-python",
   "name": "python",
   "nbconvert_exporter": "python",
   "pygments_lexer": "ipython3",
   "version": "3.7.6"
  }
 },
 "nbformat": 4,
 "nbformat_minor": 4
}
